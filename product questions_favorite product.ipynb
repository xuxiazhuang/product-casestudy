{
 "cells": [
  {
   "cell_type": "markdown",
   "metadata": {},
   "source": [
    "# How to land a product manager job in Technology"
   ]
  },
  {
   "cell_type": "markdown",
   "metadata": {},
   "source": [
    "## chapter 14 Type 3 Favorite Product"
   ]
  },
  {
   "cell_type": "markdown",
   "metadata": {},
   "source": [
    "These problems are similiar to improve a product, but approached in reverse.Rather than sppeaking about what's broken \n",
    "about a product,you discuss why you love this product."
   ]
  },
  {
   "cell_type": "markdown",
   "metadata": {},
   "source": [
    "## step1 what problems does the product solve for the user?"
   ]
  },
  {
   "cell_type": "markdown",
   "metadata": {},
   "source": [
    "you need to think about not just what the product is, but also what the user's goals are."
   ]
  },
  {
   "cell_type": "markdown",
   "metadata": {},
   "source": [
    "## step2: How does the product accomplish these goals? what makes it \"neat\"? what makes users fall im love with the product?"
   ]
  },
  {
   "cell_type": "markdown",
   "metadata": {},
   "source": [
    "## step3 How does it compare to the alternatives?"
   ]
  },
  {
   "cell_type": "markdown",
   "metadata": {},
   "source": [
    "In other words, there is a reason why you are not using the alternatives.What is that reason?"
   ]
  },
  {
   "cell_type": "markdown",
   "metadata": {},
   "source": [
    "## step4 How would you improve it?"
   ]
  },
  {
   "cell_type": "markdown",
   "metadata": {},
   "source": [
    "# Preparation"
   ]
  },
  {
   "cell_type": "markdown",
   "metadata": {},
   "source": [
    "##1 select products"
   ]
  },
  {
   "cell_type": "markdown",
   "metadata": {},
   "source": [
    "one online product,one phisical offline product\n",
    "\n",
    "your favrote product or website\n",
    "\n",
    "a product you think is well designed"
   ]
  },
  {
   "cell_type": "markdown",
   "metadata": {},
   "source": [
    "##2 understand key metrics"
   ]
  },
  {
   "cell_type": "markdown",
   "metadata": {},
   "source": [
    "users/traffic\n",
    "\n",
    "conversion: convert a visitor to a user, a free user to a paid user, a paid user to a more highly paying user\n",
    "\n",
    "Referral Rates\n",
    "\n",
    "Engagement:Are users actively engaging with the product(posting ,comment,playing)?How often?\n",
    "    \n",
    "Retention\n",
    "\n",
    "Revenue\n",
    "\n",
    "Costs"
   ]
  },
  {
   "cell_type": "markdown",
   "metadata": {},
   "source": [
    "## step3: Analyze Each Product"
   ]
  },
  {
   "cell_type": "markdown",
   "metadata": {},
   "source": [
    "users and goals\n",
    "\n",
    "strengths\n",
    "\n",
    "challenges / Focuses \n",
    "\n",
    "why,why,why why does the product excel(or strggle) in a particular way?\n",
    "\n",
    "Priorities and values\n",
    "\n",
    "Tradeoffs : what are the tradeoffs a product has had to make in order to accomplishe\n",
    "its goals or address user needs? How did it come to be that the product had these strengths or challenges?\n"
   ]
  },
  {
   "cell_type": "code",
   "execution_count": null,
   "metadata": {},
   "outputs": [],
   "source": []
  }
 ],
 "metadata": {
  "kernelspec": {
   "display_name": "Python 3",
   "language": "python",
   "name": "python3"
  },
  "language_info": {
   "codemirror_mode": {
    "name": "ipython",
    "version": 3
   },
   "file_extension": ".py",
   "mimetype": "text/x-python",
   "name": "python",
   "nbconvert_exporter": "python",
   "pygments_lexer": "ipython3",
   "version": "3.7.4"
  }
 },
 "nbformat": 4,
 "nbformat_minor": 4
}
