{
 "cells": [
  {
   "cell_type": "markdown",
   "metadata": {},
   "source": [
    "# Case Questions"
   ]
  },
  {
   "cell_type": "markdown",
   "metadata": {},
   "source": [
    "## chapter 15"
   ]
  },
  {
   "cell_type": "markdown",
   "metadata": {},
   "source": [
    "PM role: PM is responsible for delivering the best product to customers."
   ]
  },
  {
   "cell_type": "markdown",
   "metadata": {},
   "source": [
    "## To solve the case questions:"
   ]
  },
  {
   "cell_type": "markdown",
   "metadata": {},
   "source": [
    "To solve the case questions:\n",
    "\n",
    "structure a problem : broken down the questions into components.\n",
    "\n",
    "Drive,Not Ride : Be relagively exhaustive in your response to a question--discuss the benefitsand traddeoffs, the short \n",
    "\n",
    "short-term and long -term benefits.etc.- and back up your answers with reasons.\n"
   ]
  },
  {
   "cell_type": "markdown",
   "metadata": {},
   "source": [
    "## customer purchase decision making process"
   ]
  },
  {
   "cell_type": "markdown",
   "metadata": {},
   "source": [
    "AIDA\n",
    "\n",
    "Attention\n",
    "\n",
    "Interest\n",
    "\n",
    "Desire\n",
    "\n",
    "Action\n"
   ]
  },
  {
   "cell_type": "markdown",
   "metadata": {},
   "source": [
    "## Markting MIX(4PS)"
   ]
  },
  {
   "cell_type": "markdown",
   "metadata": {},
   "source": [
    "describes the different aspects of a company's marketing plan"
   ]
  },
  {
   "cell_type": "markdown",
   "metadata": {},
   "source": [
    "product\n",
    "\n",
    "price\n",
    "\n",
    "promotion\n",
    "\n",
    "place"
   ]
  },
  {
   "cell_type": "markdown",
   "metadata": {},
   "source": [
    "## SWOT Analysis"
   ]
  },
  {
   "cell_type": "markdown",
   "metadata": {},
   "source": [
    "SWOT analysis is a structure to analyze companies and products\n",
    "\n",
    "It offers a framework for analyzing a strategic decision."
   ]
  },
  {
   "cell_type": "markdown",
   "metadata": {},
   "source": [
    "Strengths\n",
    "\n",
    "Weaknesses \n",
    "\n",
    "Opportunities\n",
    "\n",
    "Threats"
   ]
  },
  {
   "cell_type": "markdown",
   "metadata": {},
   "source": [
    "## The Five Cs(Situational Analysis)"
   ]
  },
  {
   "cell_type": "markdown",
   "metadata": {},
   "source": [
    "The Five Cs provide an overview of the environment for a product or decision."
   ]
  },
  {
   "cell_type": "markdown",
   "metadata": {},
   "source": [
    "company\n",
    "\n",
    "competitors\n",
    "\n",
    "customers\n",
    "\n",
    "collaborators\n",
    "\n",
    "climate"
   ]
  },
  {
   "cell_type": "markdown",
   "metadata": {},
   "source": [
    "## PRODUCT METRICS"
   ]
  },
  {
   "cell_type": "markdown",
   "metadata": {},
   "source": [
    "Types of Metrics:user acquisition,activity,conversation&retention,and money."
   ]
  },
  {
   "cell_type": "markdown",
   "metadata": {},
   "source": [
    "# Interview Questions"
   ]
  },
  {
   "cell_type": "markdown",
   "metadata": {},
   "source": [
    "## strategy questions"
   ]
  },
  {
   "cell_type": "markdown",
   "metadata": {},
   "source": [
    "It's important to think about a product's strategy at two levels:\n",
    "\n",
    "Micro:what's the business model? will customer want it?\n",
    "    \n",
    "Macro: how does this product fit into the greater vision of the company? Does it secure an existing market?\n"
   ]
  },
  {
   "cell_type": "markdown",
   "metadata": {},
   "source": [
    "## Marketing Questions"
   ]
  },
  {
   "cell_type": "markdown",
   "metadata": {},
   "source": [
    "Marketing questions are about product positioning,customers,and handling."
   ]
  },
  {
   "cell_type": "markdown",
   "metadata": {},
   "source": [
    "1 understand the company: goals? mission?swot?\n",
    "\n",
    "2 understand the competition  break down the competition into segments.who competes and in what market? how do they position themselves?\n",
    "what are their strengths and weaknesses?\n",
    "\n",
    "3 understand the customers\n",
    "\n",
    "4 understand the landscape legal issues? what external forces are shaping your market?\n",
    "\n",
    "5 Market your product."
   ]
  },
  {
   "cell_type": "markdown",
   "metadata": {},
   "source": [
    "## Launching Questions"
   ]
  },
  {
   "cell_type": "markdown",
   "metadata": {},
   "source": [
    "the following approach"
   ]
  },
  {
   "cell_type": "markdown",
   "metadata": {},
   "source": [
    "The product: the vision, strengths,weaknesses,risks,the goals, the target market,the competitor?"
   ]
  },
  {
   "cell_type": "markdown",
   "metadata": {},
   "source": [
    "Launch Goals: determine the goals,as many as usere as possible? ensure profitabilitiy?"
   ]
  },
  {
   "cell_type": "markdown",
   "metadata": {},
   "source": [
    "Launch design"
   ]
  },
  {
   "cell_type": "markdown",
   "metadata": {},
   "source": [
    "launch implementation(PRE +DURING + POST)"
   ]
  },
  {
   "cell_type": "markdown",
   "metadata": {},
   "source": [
    "### launch implementation"
   ]
  },
  {
   "cell_type": "markdown",
   "metadata": {},
   "source": [
    "Target Market\n",
    "\n",
    "User type / components\n",
    "\n",
    "MVP or full product\n",
    "\n",
    "distribution\n",
    "\n",
    "rollout\n",
    "\n",
    "buzz\n",
    "\n",
    "partnership\n",
    "\n",
    "risks"
   ]
  },
  {
   "cell_type": "code",
   "execution_count": null,
   "metadata": {},
   "outputs": [],
   "source": []
  },
  {
   "cell_type": "code",
   "execution_count": null,
   "metadata": {},
   "outputs": [],
   "source": []
  },
  {
   "cell_type": "code",
   "execution_count": null,
   "metadata": {},
   "outputs": [],
   "source": []
  },
  {
   "cell_type": "code",
   "execution_count": null,
   "metadata": {},
   "outputs": [],
   "source": []
  }
 ],
 "metadata": {
  "kernelspec": {
   "display_name": "Python 3",
   "language": "python",
   "name": "python3"
  },
  "language_info": {
   "codemirror_mode": {
    "name": "ipython",
    "version": 3
   },
   "file_extension": ".py",
   "mimetype": "text/x-python",
   "name": "python",
   "nbconvert_exporter": "python",
   "pygments_lexer": "ipython3",
   "version": "3.7.4"
  }
 },
 "nbformat": 4,
 "nbformat_minor": 4
}
