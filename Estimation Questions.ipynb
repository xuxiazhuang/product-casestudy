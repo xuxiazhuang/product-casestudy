{
 "cells": [
  {
   "cell_type": "markdown",
   "metadata": {},
   "source": [
    "# How to Land a Product Manager Job in Technology"
   ]
  },
  {
   "cell_type": "markdown",
   "metadata": {},
   "source": [
    "## chapter 13 Estimation Questions"
   ]
  },
  {
   "cell_type": "markdown",
   "metadata": {},
   "source": [
    "Estimation questons are entirely about the process you take to solve them.It's the journey, not the destination"
   ]
  },
  {
   "cell_type": "markdown",
   "metadata": {},
   "source": [
    "### Approach "
   ]
  },
  {
   "cell_type": "markdown",
   "metadata": {},
   "source": [
    "### Step1: Clarify the Question"
   ]
  },
  {
   "cell_type": "markdown",
   "metadata": {},
   "source": [
    "make sure you heard the question correctly and truly understand what's being asked.\n",
    "\n",
    "(first repeat the question back to your interviewed or mannager)"
   ]
  },
  {
   "cell_type": "markdown",
   "metadata": {},
   "source": [
    "e.g.how much money Gmail makes in ads every year?"
   ]
  },
  {
   "cell_type": "markdown",
   "metadata": {},
   "source": [
    "does money mean profit or revenue? \n",
    "does gmail include just Gmail.com? what about when  companies use hosted Gmail for their domain?\n",
    "Do you mean the past year? Or averaging over all years since Gmail was launched?\n",
    "Is this for the US onlyor is it worldwide?"
   ]
  },
  {
   "cell_type": "markdown",
   "metadata": {},
   "source": [
    "### Step2: Catalog What You Know (or Wish you knew)"
   ]
  },
  {
   "cell_type": "markdown",
   "metadata": {},
   "source": [
    "You will want to get a feel for what knowledge you have and what you need to compute, in some cases, you can ask your\n",
    "interviewer for key facts.\n",
    "\n",
    "\" Could you tell me the ctr of an ad, or would you prefer that I compute it\""
   ]
  },
  {
   "cell_type": "markdown",
   "metadata": {},
   "source": [
    "### Step3: Make an Equation"
   ]
  },
  {
   "cell_type": "markdown",
   "metadata": {},
   "source": [
    "the most important part of the whol process"
   ]
  },
  {
   "cell_type": "markdown",
   "metadata": {},
   "source": [
    "There ae multiple approaches for any problem, but no best one, as it depends on your knowledge and backgroud,"
   ]
  },
  {
   "cell_type": "markdown",
   "metadata": {},
   "source": [
    "e.g. calculate the annual revenue for gmail in USA\n",
    "\n",
    "gmail user in USA * annual clicks per user * average revenue per click"
   ]
  },
  {
   "cell_type": "markdown",
   "metadata": {},
   "source": [
    "It might be useful for you to brainstorm multiple equations and to have a plan of attack for each component incase you aren't able to compute the next one."
   ]
  },
  {
   "cell_type": "markdown",
   "metadata": {},
   "source": [
    "### Step4: Think about edge cases and alternate sources"
   ]
  },
  {
   "cell_type": "markdown",
   "metadata": {},
   "source": [
    "Pause for a moment and think about the potential problems in your approach."
   ]
  },
  {
   "cell_type": "markdown",
   "metadata": {},
   "source": [
    "example: you are computing the num of pizza places in the us, have you considered college towns?\n",
    "if you are cmpting how much it would cost to wash all the windows in your city, have you taken into account broken windows? or eve car and bus windows?"
   ]
  },
  {
   "cell_type": "markdown",
   "metadata": {},
   "source": [
    "Is there some source that you haven't considered? if you are computing the number of guns sold every year, have you included\n",
    "illegal sales?"
   ]
  },
  {
   "cell_type": "markdown",
   "metadata": {},
   "source": [
    "Think carefully about what situations might not fall into the frame you created in the previous step."
   ]
  },
  {
   "cell_type": "markdown",
   "metadata": {},
   "source": [
    "### Step5: Break it down"
   ]
  },
  {
   "cell_type": "markdown",
   "metadata": {},
   "source": [
    "So far you have an equation which lead you to an answer,you have analyzed potential edge cases and issues.\n",
    "Now you want to find a way to solve each component of the equation."
   ]
  },
  {
   "cell_type": "markdown",
   "metadata": {},
   "source": [
    "gmail users in the USA:if the interviewer won't give us this information, we can compute it through an equation.\n",
    "\n",
    "gmail users i the USA = Population of the US * %of People with email * %of email users who use gmail"
   ]
  },
  {
   "cell_type": "markdown",
   "metadata": {},
   "source": [
    "For each part of the main equation,construct a sub-equation.Keep each part of the original equation separate;\n",
    "don't try to mege them into one mammoth equation."
   ]
  },
  {
   "cell_type": "markdown",
   "metadata": {},
   "source": [
    "### Step6: Review & State your assumptions"
   ]
  },
  {
   "cell_type": "markdown",
   "metadata": {},
   "source": [
    "We now have a series of equations and all that's left to do is guess some numbers.\n",
    "\n",
    "Be sure to tell your interviewer why you are making the assumptions you are.your reasoning is more important than \n",
    "the precise number."
   ]
  },
  {
   "cell_type": "markdown",
   "metadata": {},
   "source": [
    "### Step7: Do the Math."
   ]
  },
  {
   "cell_type": "markdown",
   "metadata": {},
   "source": [
    "### Step8: Sanity Check"
   ]
  },
  {
   "cell_type": "markdown",
   "metadata": {},
   "source": [
    "Make sure the value passes some quick sanity checks."
   ]
  },
  {
   "cell_type": "markdown",
   "metadata": {},
   "source": [
    "If you feel the number doesn't make sense,maybe the issue is in one of the ollowing areas.\n",
    "\n",
    "*Original equation\n",
    "\n",
    "*Assumptions\n",
    "\n",
    "*Arithmetic"
   ]
  },
  {
   "cell_type": "code",
   "execution_count": null,
   "metadata": {},
   "outputs": [],
   "source": []
  },
  {
   "cell_type": "code",
   "execution_count": null,
   "metadata": {},
   "outputs": [],
   "source": []
  }
 ],
 "metadata": {
  "kernelspec": {
   "display_name": "Python 3",
   "language": "python",
   "name": "python3"
  },
  "language_info": {
   "codemirror_mode": {
    "name": "ipython",
    "version": 3
   },
   "file_extension": ".py",
   "mimetype": "text/x-python",
   "name": "python",
   "nbconvert_exporter": "python",
   "pygments_lexer": "ipython3",
   "version": "3.6.8"
  }
 },
 "nbformat": 4,
 "nbformat_minor": 2
}
